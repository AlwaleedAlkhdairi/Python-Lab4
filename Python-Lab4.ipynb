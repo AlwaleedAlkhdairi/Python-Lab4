{
 "cells": [
  {
   "cell_type": "markdown",
   "id": "f8b4da43",
   "metadata": {},
   "source": [
    "# My Python Lab 4 : Functions\n",
    "Alwaleed Alkhdairi\n",
    "## Introduction\n",
    "Lets create descending numbers pattern using loops.\n"
   ]
  },
  {
   "cell_type": "markdown",
   "id": "50fe996f",
   "metadata": {},
   "source": [
    " #### Question 1:  Create a function that takes one parameter of type int, then it prints out the result formatted like the following pattern"
   ]
  },
  {
   "cell_type": "code",
   "execution_count": 43,
   "id": "f4f19d3f",
   "metadata": {},
   "outputs": [
    {
     "name": "stdout",
     "output_type": "stream",
     "text": [
      "5 4 3 2 1 \n",
      "\n",
      "4 3 2 1 \n",
      "\n",
      "3 2 1 \n",
      "\n",
      "2 1 \n",
      "\n",
      "1 \n",
      "\n"
     ]
    }
   ],
   "source": [
    "# Pascal Case\n",
    "def NumDecreasing (num):\n",
    "    \n",
    "    for i in range(num, 0,-1):\n",
    "        string = \"\"\n",
    "        for j in range(i, 0, -1):\n",
    "            string += str(j) + \" \"\n",
    "                    \n",
    "        print(string+\"\\n\")\n",
    "            \n",
    "NumDecreasing(5)"
   ]
  }
 ],
 "metadata": {
  "kernelspec": {
   "display_name": "Python 3 (ipykernel)",
   "language": "python",
   "name": "python3"
  },
  "language_info": {
   "codemirror_mode": {
    "name": "ipython",
    "version": 3
   },
   "file_extension": ".py",
   "mimetype": "text/x-python",
   "name": "python",
   "nbconvert_exporter": "python",
   "pygments_lexer": "ipython3",
   "version": "3.9.13"
  }
 },
 "nbformat": 4,
 "nbformat_minor": 5
}
